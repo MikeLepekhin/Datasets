{
 "cells": [
  {
   "cell_type": "code",
   "execution_count": 1,
   "metadata": {},
   "outputs": [],
   "source": [
    "import numpy as np\n",
    "import pandas as pd"
   ]
  },
  {
   "cell_type": "code",
   "execution_count": 3,
   "metadata": {},
   "outputs": [
    {
     "data": {
      "text/html": [
       "<div>\n",
       "<style scoped>\n",
       "    .dataframe tbody tr th:only-of-type {\n",
       "        vertical-align: middle;\n",
       "    }\n",
       "\n",
       "    .dataframe tbody tr th {\n",
       "        vertical-align: top;\n",
       "    }\n",
       "\n",
       "    .dataframe thead th {\n",
       "        text-align: right;\n",
       "    }\n",
       "</style>\n",
       "<table border=\"1\" class=\"dataframe\">\n",
       "  <thead>\n",
       "    <tr style=\"text-align: right;\">\n",
       "      <th></th>\n",
       "      <th>TRANSACTIONID</th>\n",
       "      <th>ITEMID</th>\n",
       "      <th>PRICE</th>\n",
       "      <th>TRANSDATE</th>\n",
       "    </tr>\n",
       "  </thead>\n",
       "  <tbody>\n",
       "    <tr>\n",
       "      <th>0</th>\n",
       "      <td>6</td>\n",
       "      <td>80275632.0</td>\n",
       "      <td>149.0</td>\n",
       "      <td>2016-02-26</td>\n",
       "    </tr>\n",
       "    <tr>\n",
       "      <th>1</th>\n",
       "      <td>10</td>\n",
       "      <td>80275632.0</td>\n",
       "      <td>149.0</td>\n",
       "      <td>2016-02-26</td>\n",
       "    </tr>\n",
       "    <tr>\n",
       "      <th>2</th>\n",
       "      <td>12</td>\n",
       "      <td>80088007.0</td>\n",
       "      <td>8.0</td>\n",
       "      <td>2016-02-26</td>\n",
       "    </tr>\n",
       "    <tr>\n",
       "      <th>3</th>\n",
       "      <td>13</td>\n",
       "      <td>80088007.0</td>\n",
       "      <td>8.0</td>\n",
       "      <td>2016-02-26</td>\n",
       "    </tr>\n",
       "    <tr>\n",
       "      <th>4</th>\n",
       "      <td>14</td>\n",
       "      <td>80088007.0</td>\n",
       "      <td>8.0</td>\n",
       "      <td>2016-02-26</td>\n",
       "    </tr>\n",
       "  </tbody>\n",
       "</table>\n",
       "</div>"
      ],
      "text/plain": [
       "   TRANSACTIONID      ITEMID  PRICE   TRANSDATE\n",
       "0              6  80275632.0  149.0  2016-02-26\n",
       "1             10  80275632.0  149.0  2016-02-26\n",
       "2             12  80088007.0    8.0  2016-02-26\n",
       "3             13  80088007.0    8.0  2016-02-26\n",
       "4             14  80088007.0    8.0  2016-02-26"
      ]
     },
     "execution_count": 3,
     "metadata": {},
     "output_type": "execute_result"
    }
   ],
   "source": [
    "train_df = pd.read_csv('train.csv', sep='\\t')\n",
    "train_df.head()"
   ]
  },
  {
   "cell_type": "code",
   "execution_count": 4,
   "metadata": {},
   "outputs": [
    {
     "name": "stdout",
     "output_type": "stream",
     "text": [
      "6398799\n"
     ]
    }
   ],
   "source": [
    "print(train_df.shape[0])"
   ]
  },
  {
   "cell_type": "code",
   "execution_count": 7,
   "metadata": {},
   "outputs": [],
   "source": [
    "train_part1 = train_df.loc[:train_df.shape[0] // 3, :]\n",
    "train_part2 = train_df.loc[train_df.shape[0] // 3 + 1 : 2 * (train_df.shape[0]//3), :]\n",
    "train_part3 = train_df.loc[2 * (train_df.shape[0]//3) + 1:, :]"
   ]
  },
  {
   "cell_type": "code",
   "execution_count": 8,
   "metadata": {},
   "outputs": [
    {
     "name": "stdout",
     "output_type": "stream",
     "text": [
      "2132934\n",
      "2132933\n",
      "2132932\n"
     ]
    }
   ],
   "source": [
    "print(train_part1.shape[0])\n",
    "print(train_part2.shape[0])\n",
    "print(train_part3.shape[0])"
   ]
  },
  {
   "cell_type": "code",
   "execution_count": 10,
   "metadata": {},
   "outputs": [],
   "source": [
    "train_part1.to_csv('train_part1.csv', sep='\\t')\n",
    "train_part2.to_csv('train_part2.csv', sep='\\t')\n",
    "train_part3.to_csv('train_part3.csv', sep='\\t')"
   ]
  },
  {
   "cell_type": "code",
   "execution_count": 12,
   "metadata": {},
   "outputs": [
    {
     "data": {
      "text/html": [
       "<div>\n",
       "<style scoped>\n",
       "    .dataframe tbody tr th:only-of-type {\n",
       "        vertical-align: middle;\n",
       "    }\n",
       "\n",
       "    .dataframe tbody tr th {\n",
       "        vertical-align: top;\n",
       "    }\n",
       "\n",
       "    .dataframe thead th {\n",
       "        text-align: right;\n",
       "    }\n",
       "</style>\n",
       "<table border=\"1\" class=\"dataframe\">\n",
       "  <thead>\n",
       "    <tr style=\"text-align: right;\">\n",
       "      <th></th>\n",
       "      <th>Unnamed: 0</th>\n",
       "      <th>TRANSACTIONID</th>\n",
       "      <th>ITEMID</th>\n",
       "      <th>PRICE</th>\n",
       "      <th>TRANSDATE</th>\n",
       "    </tr>\n",
       "  </thead>\n",
       "  <tbody>\n",
       "    <tr>\n",
       "      <th>0</th>\n",
       "      <td>0</td>\n",
       "      <td>6</td>\n",
       "      <td>80275632.0</td>\n",
       "      <td>149.0</td>\n",
       "      <td>2016-02-26</td>\n",
       "    </tr>\n",
       "    <tr>\n",
       "      <th>1</th>\n",
       "      <td>1</td>\n",
       "      <td>10</td>\n",
       "      <td>80275632.0</td>\n",
       "      <td>149.0</td>\n",
       "      <td>2016-02-26</td>\n",
       "    </tr>\n",
       "    <tr>\n",
       "      <th>2</th>\n",
       "      <td>2</td>\n",
       "      <td>12</td>\n",
       "      <td>80088007.0</td>\n",
       "      <td>8.0</td>\n",
       "      <td>2016-02-26</td>\n",
       "    </tr>\n",
       "    <tr>\n",
       "      <th>3</th>\n",
       "      <td>3</td>\n",
       "      <td>13</td>\n",
       "      <td>80088007.0</td>\n",
       "      <td>8.0</td>\n",
       "      <td>2016-02-26</td>\n",
       "    </tr>\n",
       "    <tr>\n",
       "      <th>4</th>\n",
       "      <td>4</td>\n",
       "      <td>14</td>\n",
       "      <td>80088007.0</td>\n",
       "      <td>8.0</td>\n",
       "      <td>2016-02-26</td>\n",
       "    </tr>\n",
       "  </tbody>\n",
       "</table>\n",
       "</div>"
      ],
      "text/plain": [
       "   Unnamed: 0  TRANSACTIONID      ITEMID  PRICE   TRANSDATE\n",
       "0           0              6  80275632.0  149.0  2016-02-26\n",
       "1           1             10  80275632.0  149.0  2016-02-26\n",
       "2           2             12  80088007.0    8.0  2016-02-26\n",
       "3           3             13  80088007.0    8.0  2016-02-26\n",
       "4           4             14  80088007.0    8.0  2016-02-26"
      ]
     },
     "execution_count": 12,
     "metadata": {},
     "output_type": "execute_result"
    }
   ],
   "source": [
    "load_train_part1 = pd.read_csv('train_part1.csv', sep='\\t')\n",
    "load_train_part2 = pd.read_csv('train_part2.csv', sep='\\t')\n",
    "load_train_part3 = pd.read_csv('train_part3.csv', sep='\\t')\n",
    "load_train_part1.head()"
   ]
  },
  {
   "cell_type": "code",
   "execution_count": 13,
   "metadata": {},
   "outputs": [],
   "source": [
    "merged = load_train_part1.append(load_train_part2).append(load_train_part3)"
   ]
  },
  {
   "cell_type": "code",
   "execution_count": 14,
   "metadata": {},
   "outputs": [
    {
     "name": "stdout",
     "output_type": "stream",
     "text": [
      "6398799\n"
     ]
    },
    {
     "data": {
      "text/html": [
       "<div>\n",
       "<style scoped>\n",
       "    .dataframe tbody tr th:only-of-type {\n",
       "        vertical-align: middle;\n",
       "    }\n",
       "\n",
       "    .dataframe tbody tr th {\n",
       "        vertical-align: top;\n",
       "    }\n",
       "\n",
       "    .dataframe thead th {\n",
       "        text-align: right;\n",
       "    }\n",
       "</style>\n",
       "<table border=\"1\" class=\"dataframe\">\n",
       "  <thead>\n",
       "    <tr style=\"text-align: right;\">\n",
       "      <th></th>\n",
       "      <th>Unnamed: 0</th>\n",
       "      <th>TRANSACTIONID</th>\n",
       "      <th>ITEMID</th>\n",
       "      <th>PRICE</th>\n",
       "      <th>TRANSDATE</th>\n",
       "    </tr>\n",
       "  </thead>\n",
       "  <tbody>\n",
       "    <tr>\n",
       "      <th>0</th>\n",
       "      <td>0</td>\n",
       "      <td>6</td>\n",
       "      <td>80275632.0</td>\n",
       "      <td>149.0</td>\n",
       "      <td>2016-02-26</td>\n",
       "    </tr>\n",
       "    <tr>\n",
       "      <th>1</th>\n",
       "      <td>1</td>\n",
       "      <td>10</td>\n",
       "      <td>80275632.0</td>\n",
       "      <td>149.0</td>\n",
       "      <td>2016-02-26</td>\n",
       "    </tr>\n",
       "    <tr>\n",
       "      <th>2</th>\n",
       "      <td>2</td>\n",
       "      <td>12</td>\n",
       "      <td>80088007.0</td>\n",
       "      <td>8.0</td>\n",
       "      <td>2016-02-26</td>\n",
       "    </tr>\n",
       "    <tr>\n",
       "      <th>3</th>\n",
       "      <td>3</td>\n",
       "      <td>13</td>\n",
       "      <td>80088007.0</td>\n",
       "      <td>8.0</td>\n",
       "      <td>2016-02-26</td>\n",
       "    </tr>\n",
       "    <tr>\n",
       "      <th>4</th>\n",
       "      <td>4</td>\n",
       "      <td>14</td>\n",
       "      <td>80088007.0</td>\n",
       "      <td>8.0</td>\n",
       "      <td>2016-02-26</td>\n",
       "    </tr>\n",
       "  </tbody>\n",
       "</table>\n",
       "</div>"
      ],
      "text/plain": [
       "   Unnamed: 0  TRANSACTIONID      ITEMID  PRICE   TRANSDATE\n",
       "0           0              6  80275632.0  149.0  2016-02-26\n",
       "1           1             10  80275632.0  149.0  2016-02-26\n",
       "2           2             12  80088007.0    8.0  2016-02-26\n",
       "3           3             13  80088007.0    8.0  2016-02-26\n",
       "4           4             14  80088007.0    8.0  2016-02-26"
      ]
     },
     "execution_count": 14,
     "metadata": {},
     "output_type": "execute_result"
    }
   ],
   "source": [
    "print(merged.shape[0])\n",
    "merged.head()"
   ]
  },
  {
   "cell_type": "code",
   "execution_count": null,
   "metadata": {},
   "outputs": [],
   "source": []
  }
 ],
 "metadata": {
  "kernelspec": {
   "display_name": "Python 3",
   "language": "python",
   "name": "python3"
  },
  "language_info": {
   "codemirror_mode": {
    "name": "ipython",
    "version": 3
   },
   "file_extension": ".py",
   "mimetype": "text/x-python",
   "name": "python",
   "nbconvert_exporter": "python",
   "pygments_lexer": "ipython3",
   "version": "3.6.5"
  }
 },
 "nbformat": 4,
 "nbformat_minor": 2
}
